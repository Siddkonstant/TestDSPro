{
 "cells": [
  {
   "cell_type": "markdown",
   "id": "b5829353-4c36-4174-978d-31d1664549a5",
   "metadata": {},
   "source": [
    "TOPIC : Python Basics Variable"
   ]
  },
  {
   "cell_type": "markdown",
   "id": "5e8d998b-3268-427c-acf6-f6bbb6668e26",
   "metadata": {},
   "source": [
    "1. Declare two variables, `x` and `y`, and assign them integer values. Swap the\n",
    "values of these variables without using any temporary variable."
   ]
  },
  {
   "cell_type": "code",
   "execution_count": 7,
   "id": "5021ac30-36b5-46c5-ac9e-dad082edfa30",
   "metadata": {},
   "outputs": [
    {
     "name": "stdout",
     "output_type": "stream",
     "text": [
      "before swap x: 2 and y: 3\n",
      "after swap x: 3 and y: 2\n"
     ]
    }
   ],
   "source": [
    "x = 2\n",
    "y = 3\n",
    "\n",
    "def swap_variables(x,y):\n",
    "  print(f\"before swap x: {x} and y: {y}\")\n",
    "  x,y = y,x\n",
    "  print(f\"after swap x: {x} and y: {y}\")\n",
    "\n",
    "swap_variables(x,y)  "
   ]
  },
  {
   "cell_type": "markdown",
   "id": "3fcce7fe-80f0-48f2-a7d9-3d63fbfc17bc",
   "metadata": {},
   "source": [
    "2. Create a program that calculates the area of a rectangle. Take the length and\n",
    "width as inputs from the user and store them in variables. Calculate and\n",
    "display the area."
   ]
  },
  {
   "cell_type": "code",
   "execution_count": 9,
   "id": "6a5752cf-70c4-4ea8-8ca4-d61b6355c47a",
   "metadata": {},
   "outputs": [
    {
     "name": "stdin",
     "output_type": "stream",
     "text": [
      "Enter the length of rectangle: 10\n",
      "Enter the wiidth of rectangle:  15\n"
     ]
    },
    {
     "name": "stdout",
     "output_type": "stream",
     "text": [
      "The area of rectangle is: 150.0\n"
     ]
    }
   ],
   "source": [
    "length = float(input(\"Enter the length of rectangle:\"))\n",
    "width = float(input(\"Enter the wiidth of rectangle: \"))\n",
    "\n",
    "area = length * width\n",
    "print(\"The area of rectangle is:\",area)"
   ]
  },
  {
   "cell_type": "markdown",
   "id": "f7335efc-6d8e-4802-a10d-b78aedab996b",
   "metadata": {},
   "source": [
    "3. Write a Python program that converts temperatures from Celsius to\n",
    "Fahrenheit. Take the temperature in Celsius as input, store it in a variable,\n",
    "convert it to Fahrenheit, and display the result."
   ]
  },
  {
   "cell_type": "code",
   "execution_count": 10,
   "id": "4a68946c-93b9-4c04-85a6-736933460e42",
   "metadata": {},
   "outputs": [
    {
     "name": "stdin",
     "output_type": "stream",
     "text": [
      "Enter temprature in celsius:  20\n"
     ]
    },
    {
     "name": "stdout",
     "output_type": "stream",
     "text": [
      "20.0 celsius is equal to  68.00 fahrenheit\n"
     ]
    }
   ],
   "source": [
    "temp_celsius = float(input(\"Enter temprature in celsius: \"))\n",
    "temp_fahrenheit = (temp_celsius * 9/5) +32\n",
    "print (f\"{temp_celsius} celsius is equal to {temp_fahrenheit: .2f} fahrenheit\")"
   ]
  },
  {
   "cell_type": "markdown",
   "id": "43d259fb-dd8a-4712-8b47-4d8f5bbc24d4",
   "metadata": {},
   "source": [
    "TOPIC: String Based Questions"
   ]
  },
  {
   "cell_type": "markdown",
   "id": "dc0ddb4d-084c-4afb-9c2e-a53c23896ae3",
   "metadata": {},
   "source": [
    "1. Write a Python program that takes a string as input and prints the length of\n",
    "the string."
   ]
  },
  {
   "cell_type": "code",
   "execution_count": 11,
   "id": "1a946bb6-6833-4d14-b36d-510223319799",
   "metadata": {},
   "outputs": [
    {
     "name": "stdin",
     "output_type": "stream",
     "text": [
      "Enter the string:  Siddhant\n"
     ]
    },
    {
     "name": "stdout",
     "output_type": "stream",
     "text": [
      "The length of input string is: 8\n"
     ]
    }
   ],
   "source": [
    "input_string = input(\"Enter the string: \")\n",
    "string_length = len(input_string)\n",
    "print (\"The length of input string is:\", string_length)"
   ]
  },
  {
   "cell_type": "markdown",
   "id": "b53ab8c9-4722-4c61-9045-dc98d0bbd49c",
   "metadata": {},
   "source": [
    "2. Create a program that takes a sentence from the user and counts the number\n",
    "of vowels (a, e, i, o, u) in the string."
   ]
  },
  {
   "cell_type": "code",
   "execution_count": 16,
   "id": "5866f710-aa5e-4b50-9d53-60cc5fea66e4",
   "metadata": {},
   "outputs": [
    {
     "name": "stdin",
     "output_type": "stream",
     "text": [
      "Enter a sentence:  Hello world good morning\n"
     ]
    },
    {
     "name": "stdout",
     "output_type": "stream",
     "text": [
      "Number of vowels: 7\n"
     ]
    }
   ],
   "source": [
    "sentence = input(\"Enter a sentence: \")\n",
    "vowel_count = 0 \n",
    "for char in sentence:\n",
    "    char_lower = char.lower()\n",
    "    if char_lower in \"aeiou\":\n",
    "        vowel_count += 1\n",
    "print(\"Number of vowels:\", vowel_count)      "
   ]
  },
  {
   "cell_type": "markdown",
   "id": "2ef44339-55a4-4f3e-883e-c37928ad7aa3",
   "metadata": {},
   "source": [
    "3. Given a string, reverse the order of characters using string slicing and print\n",
    "the reversed string."
   ]
  },
  {
   "cell_type": "code",
   "execution_count": 17,
   "id": "ddd6a7d8-28b0-4656-bab1-7f7b94d32557",
   "metadata": {},
   "outputs": [
    {
     "name": "stdin",
     "output_type": "stream",
     "text": [
      "Enter a string:  hello\n"
     ]
    },
    {
     "name": "stdout",
     "output_type": "stream",
     "text": [
      "Reverse String: olleh\n"
     ]
    }
   ],
   "source": [
    "input_string = input(\"Enter a string: \")\n",
    "reverse_string = input_string[::-1]\n",
    "print(\"Reverse String:\",reverse_string)"
   ]
  },
  {
   "cell_type": "markdown",
   "id": "f59b99b1-8bf0-4812-b976-148e5616068d",
   "metadata": {},
   "source": [
    "4. Write a program that takes a string as input and checks if it is a palindrome\n",
    "(reads the same forwards and backwards).\n"
   ]
  },
  {
   "cell_type": "code",
   "execution_count": 20,
   "id": "6d18979d-46bf-4fed-94e3-b56a77a86bda",
   "metadata": {},
   "outputs": [
    {
     "name": "stdin",
     "output_type": "stream",
     "text": [
      "Enter a string:  elle\n"
     ]
    },
    {
     "name": "stdout",
     "output_type": "stream",
     "text": [
      "The input string is a palindrome.\n"
     ]
    }
   ],
   "source": [
    "input_string = input(\"Enter a string: \")\n",
    "new_string = input_string.replace(\" \", \"\").lower()\n",
    "reverse_string = new_string[::-1]\n",
    "\n",
    "if new_string == reverse_string:\n",
    "    print(\"The input string is a palindrome.\")\n",
    "else:\n",
    "    print(\"The input string is not a palindrome.\")      "
   ]
  },
  {
   "cell_type": "markdown",
   "id": "73512086-bc90-48e8-8b91-7899ec7a9039",
   "metadata": {},
   "source": [
    "5. Create a program that takes a string as input and removes all the spaces from\n",
    "it. Print the modified string without spaces."
   ]
  },
  {
   "cell_type": "code",
   "execution_count": 22,
   "id": "e8f57c16-9c97-4c5f-9867-afea1bdd01d2",
   "metadata": {},
   "outputs": [
    {
     "name": "stdin",
     "output_type": "stream",
     "text": [
      "Enter a string:  hello good morning world\n"
     ]
    },
    {
     "name": "stdout",
     "output_type": "stream",
     "text": [
      "Modified string without spaces: hellogoodmorningworld\n"
     ]
    }
   ],
   "source": [
    "input_string = input(\"Enter a string: \")\n",
    "new_string = \"\"\n",
    "for char in input_string:\n",
    "    if char != \" \":\n",
    "        new_string += char\n",
    "print(\"Modified string without spaces:\", new_string)        "
   ]
  },
  {
   "cell_type": "code",
   "execution_count": null,
   "id": "fc9a7165-7b21-487f-bbba-0f9f2d9761da",
   "metadata": {},
   "outputs": [],
   "source": []
  }
 ],
 "metadata": {
  "kernelspec": {
   "display_name": "Python 3 (ipykernel)",
   "language": "python",
   "name": "python3"
  },
  "language_info": {
   "codemirror_mode": {
    "name": "ipython",
    "version": 3
   },
   "file_extension": ".py",
   "mimetype": "text/x-python",
   "name": "python",
   "nbconvert_exporter": "python",
   "pygments_lexer": "ipython3",
   "version": "3.10.8"
  }
 },
 "nbformat": 4,
 "nbformat_minor": 5
}
